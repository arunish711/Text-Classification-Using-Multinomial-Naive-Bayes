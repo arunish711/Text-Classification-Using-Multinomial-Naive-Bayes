{
 "cells": [
  {
   "cell_type": "code",
   "execution_count": 120,
   "metadata": {
    "colab": {
     "base_uri": "https://localhost:8080/",
     "height": 204
    },
    "colab_type": "code",
    "id": "vC7M3Zu1iamV",
    "outputId": "faa07aac-3467-4377-d3c1-8266378e52b2"
   },
   "outputs": [
    {
     "name": "stderr",
     "output_type": "stream",
     "text": [
      "[nltk_data] Downloading package punkt to\n",
      "[nltk_data]     C:\\Users\\Dell\\AppData\\Roaming\\nltk_data...\n",
      "[nltk_data]   Package punkt is already up-to-date!\n",
      "[nltk_data] Downloading package stopwords to\n",
      "[nltk_data]     C:\\Users\\Dell\\AppData\\Roaming\\nltk_data...\n",
      "[nltk_data]   Package stopwords is already up-to-date!\n",
      "[nltk_data] Downloading package averaged_perceptron_tagger to\n",
      "[nltk_data]     C:\\Users\\Dell\\AppData\\Roaming\\nltk_data...\n",
      "[nltk_data]   Package averaged_perceptron_tagger is already up-to-\n",
      "[nltk_data]       date!\n",
      "[nltk_data] Downloading package wordnet to\n",
      "[nltk_data]     C:\\Users\\Dell\\AppData\\Roaming\\nltk_data...\n",
      "[nltk_data]   Package wordnet is already up-to-date!\n"
     ]
    },
    {
     "data": {
      "text/plain": [
       "True"
      ]
     },
     "execution_count": 120,
     "metadata": {},
     "output_type": "execute_result"
    }
   ],
   "source": [
    "from sklearn.datasets import fetch_20newsgroups\n",
    "from sklearn.feature_extraction.text import CountVectorizer\n",
    "from sklearn.feature_extraction.text import TfidfVectorizer\n",
    "from nltk.stem import WordNetLemmatizer\n",
    "from nltk.tokenize import word_tokenize\n",
    "from nltk.corpus import wordnet\n",
    "from nltk.corpus import stopwords\n",
    "from nltk import pos_tag\n",
    "import numpy as np\n",
    "import math \n",
    "import pandas as pd\n",
    "import random\n",
    "import string\n",
    "import nltk\n",
    "nltk.download('punkt')\n",
    "nltk.download('stopwords')\n",
    "nltk.download('averaged_perceptron_tagger')\n",
    "nltk.download('wordnet')"
   ]
  },
  {
   "cell_type": "code",
   "execution_count": 2,
   "metadata": {
    "colab": {
     "base_uri": "https://localhost:8080/",
     "height": 34
    },
    "colab_type": "code",
    "id": "PPKrq6JAiama",
    "outputId": "4ce2f79b-985d-4f81-ccb3-491bfc099afd"
   },
   "outputs": [
    {
     "data": {
      "text/plain": [
       "<function sklearn.datasets.twenty_newsgroups.fetch_20newsgroups(data_home=None, subset='train', categories=None, shuffle=True, random_state=42, remove=(), download_if_missing=True)>"
      ]
     },
     "execution_count": 2,
     "metadata": {},
     "output_type": "execute_result"
    }
   ],
   "source": [
    "fetch_20newsgroups     ##Analysing the dataset"
   ]
  },
  {
   "cell_type": "code",
   "execution_count": null,
   "metadata": {},
   "outputs": [],
   "source": [
    "##Loading the dataset and removing 'headers','footers' and 'quotes' from it"
   ]
  },
  {
   "cell_type": "code",
   "execution_count": 3,
   "metadata": {
    "colab": {},
    "colab_type": "code",
    "id": "dT461hOoiamf"
   },
   "outputs": [],
   "source": [
    "categories = ['alt.atheism',\n",
    " 'comp.graphics',\n",
    " 'comp.os.ms-windows.misc',\n",
    " 'comp.sys.ibm.pc.hardware',\n",
    " 'comp.sys.mac.hardware',\n",
    " 'comp.windows.x',\n",
    " 'misc.forsale',\n",
    " 'rec.autos',\n",
    " 'rec.motorcycles',\n",
    " 'rec.sport.baseball',\n",
    " 'rec.sport.hockey',\n",
    " 'sci.crypt',\n",
    " 'sci.electronics',\n",
    " 'sci.med',\n",
    " 'sci.space',\n",
    " 'soc.religion.christian',\n",
    " 'talk.politics.guns',\n",
    " 'talk.politics.mideast',\n",
    " 'talk.politics.misc',\n",
    " 'talk.religion.misc']\n",
    "newsgroups_train = fetch_20newsgroups(subset='train',remove=('headers', 'footers', 'quotes'),categories=categories)\n",
    "newsgroups_test =  fetch_20newsgroups(subset='test',remove=('headers', 'footers', 'quotes'),categories=categories)"
   ]
  },
  {
   "cell_type": "code",
   "execution_count": 4,
   "metadata": {
    "colab": {},
    "colab_type": "code",
    "id": "ViEuP0KWiamh"
   },
   "outputs": [],
   "source": [
    "newsgroup_train_data=(newsgroups_train.data)      ## Extracting the training input data \n",
    "newsgroup_train_target=(newsgroups_train.target)  ## Extracting the tranaing target"
   ]
  },
  {
   "cell_type": "code",
   "execution_count": 5,
   "metadata": {
    "colab": {},
    "colab_type": "code",
    "id": "Oryq73c9iaml"
   },
   "outputs": [],
   "source": [
    "newsgroup_test_data=(newsgroups_test.data)        ## Extracting the testing input data\n",
    "newsgroup_test_target=(newsgroups_test.target)    ## Extracting the testing target"
   ]
  },
  {
   "cell_type": "code",
   "execution_count": null,
   "metadata": {},
   "outputs": [],
   "source": [
    "## Getting the both training and testing documents converted into tuple form in which first element consists of data and\n",
    "## second element consists it's class to which it belongs.After that we are shuflling the training documents."
   ]
  },
  {
   "cell_type": "code",
   "execution_count": 6,
   "metadata": {
    "colab": {},
    "colab_type": "code",
    "id": "3BL6Bntoiamo"
   },
   "outputs": [],
   "source": [
    "documents=[]\n",
    "testdocuments=[]\n",
    "documents=[(newsgroup_train_data[i],newsgroup_train_target[i]) for i in range(0,len(newsgroup_train_target))]\n",
    "testdocuments=[(newsgroup_test_data[i],newsgroup_test_target[i]) for i in range(0,len(newsgroup_test_target))]\n",
    "random.shuffle(documents)"
   ]
  },
  {
   "cell_type": "code",
   "execution_count": null,
   "metadata": {},
   "outputs": [],
   "source": [
    "## Splitting the training and testing documents into word."
   ]
  },
  {
   "cell_type": "code",
   "execution_count": 7,
   "metadata": {
    "colab": {},
    "colab_type": "code",
    "id": "foEr-seDiamr"
   },
   "outputs": [],
   "source": [
    "train_documents=[(word_tokenize(document),category) for document,category in documents]\n",
    "test_documents=[(word_tokenize(document),category) for document,category in testdocuments]"
   ]
  },
  {
   "cell_type": "code",
   "execution_count": 8,
   "metadata": {
    "colab": {},
    "colab_type": "code",
    "id": "o_VQC2ttiamu"
   },
   "outputs": [],
   "source": [
    "lemmatizer=WordNetLemmatizer()"
   ]
  },
  {
   "cell_type": "code",
   "execution_count": 9,
   "metadata": {
    "colab": {},
    "colab_type": "code",
    "id": "G8kRDeRkiamx"
   },
   "outputs": [],
   "source": [
    "def get_simple_pos(tag):\n",
    "    if tag.startswith('J'):\n",
    "        return wordnet.ADJ\n",
    "    elif tag.startswith('V'):\n",
    "        return wordnet.VERB\n",
    "    elif tag.startswith('N'):\n",
    "        return wordnet.NOUN\n",
    "    elif tag.startswith('R'):\n",
    "        return wordnet.ADV\n",
    "    else:\n",
    "        return wordnet.NOUN"
   ]
  },
  {
   "cell_type": "code",
   "execution_count": 11,
   "metadata": {
    "colab": {},
    "colab_type": "code",
    "id": "BJMBDPssiam1"
   },
   "outputs": [],
   "source": [
    "stops=set(stopwords.words('english'))  ## Creating List of words that we don't want in training as well as testing documents.\n",
    "punctuations=list(string.punctuation)  ## Also we also need to remove various punctuations from our data.\n",
    "stops.update(punctuations)"
   ]
  },
  {
   "cell_type": "code",
   "execution_count": 12,
   "metadata": {
    "colab": {},
    "colab_type": "code",
    "id": "zgjCoDm8iam3"
   },
   "outputs": [],
   "source": [
    "def clean_text(words):    ## Cleaning the documents.\n",
    "    output_words=[]\n",
    "    \n",
    "    for w in words:\n",
    "        if w.lower() not in stops:\n",
    "            pos=pos_tag([w])\n",
    "            clean_word=lemmatizer.lemmatize(w,pos=get_simple_pos(pos[0][1]))\n",
    "            output_words.append(clean_word.lower())\n",
    "    return output_words"
   ]
  },
  {
   "cell_type": "code",
   "execution_count": null,
   "metadata": {},
   "outputs": [],
   "source": [
    "## Here we have our cleaned training as well as testing documents."
   ]
  },
  {
   "cell_type": "code",
   "execution_count": 13,
   "metadata": {
    "colab": {},
    "colab_type": "code",
    "id": "-BoRHL0-iam5"
   },
   "outputs": [],
   "source": [
    "train_documents=[(clean_text(document),category) for document,category in train_documents]\n",
    "test_documents=[(clean_text(document),category) for document,category in test_documents]"
   ]
  },
  {
   "cell_type": "code",
   "execution_count": null,
   "metadata": {},
   "outputs": [],
   "source": [
    "## Here we are getting our features on which we will work."
   ]
  },
  {
   "cell_type": "code",
   "execution_count": 173,
   "metadata": {
    "colab": {},
    "colab_type": "code",
    "id": "CaGBitRciam_"
   },
   "outputs": [],
   "source": [
    "vectorizer = CountVectorizer(max_features=3000)\n",
    "t_train=[\" \".join(document) for document,category in train_documents]\n",
    "t_test=[\" \".join(document) for document,category in test_documents]\n",
    "features=vectorizer.get_feature_names()"
   ]
  },
  {
   "cell_type": "code",
   "execution_count": null,
   "metadata": {},
   "outputs": [],
   "source": [
    "## Here we are calculating the probability of data point for a particular class"
   ]
  },
  {
   "cell_type": "code",
   "execution_count": 174,
   "metadata": {
    "colab": {},
    "colab_type": "code",
    "id": "xKZ2AWjHianC"
   },
   "outputs": [],
   "source": [
    "def probability(dictionary,x,current_class,features):\n",
    "    output=(dictionary[current_class][\"total_count\"])/(dictionary[\"total_data\"])\n",
    "    output=np.log(output)\n",
    "    num_features=len(dictionary[current_class].keys())-2\n",
    "    \n",
    "    for j in range(2,num_features+2):\n",
    "        if(x[j-2]==0):\n",
    "            continue\n",
    "        word_jcnt=dictionary[current_class][features[j-2]]+1\n",
    "        total_word_cnt=dictionary[current_class][\"total_word_count\"]\n",
    "        prob_wordj=(word_jcnt)/(total_word_cnt)\n",
    "        prob_wordj=np.log(prob_wordj)\n",
    "        output=(output)+(prob_wordj)\n",
    "    return output"
   ]
  },
  {
   "cell_type": "code",
   "execution_count": null,
   "metadata": {},
   "outputs": [],
   "source": [
    "## This function return the best_class i.e the class which has highest probability to contain a data point."
   ]
  },
  {
   "cell_type": "code",
   "execution_count": 175,
   "metadata": {
    "colab": {},
    "colab_type": "code",
    "id": "Q1v44gcUianF"
   },
   "outputs": [],
   "source": [
    "def predictSinglePoint(dictionary,x,features):\n",
    "    classes=dictionary.keys()\n",
    "    first_run=True\n",
    "    best_p=-10000000\n",
    "    best_class=-1\n",
    "    \n",
    "    for current_class in classes:\n",
    "        if(current_class==\"total_data\"):\n",
    "            continue\n",
    "        p_current_class=probability(dictionary,x,current_class,features)\n",
    "        \n",
    "        if(p_current_class > best_p or first_run):\n",
    "            best_p=p_current_class\n",
    "            best_class=current_class\n",
    "            first_run=False\n",
    "            \n",
    "    return best_class"
   ]
  },
  {
   "cell_type": "code",
   "execution_count": null,
   "metadata": {},
   "outputs": [],
   "source": [
    "## We are storing the predictions and returing it."
   ]
  },
  {
   "cell_type": "code",
   "execution_count": 176,
   "metadata": {
    "colab": {},
    "colab_type": "code",
    "id": "yrM6jrr9ianI"
   },
   "outputs": [],
   "source": [
    "def predict(dictionary,x_test,features):\n",
    "    y_pred=[]\n",
    "    for i in range(0,x_test.shape[0],1):\n",
    "        x_class=predictSinglePoint(dictionary,x_test[i,:],features)\n",
    "        y_pred.append(x_class)\n",
    "    return y_pred"
   ]
  },
  {
   "cell_type": "code",
   "execution_count": null,
   "metadata": {},
   "outputs": [],
   "source": [
    "## Here we are training the algorithm"
   ]
  },
  {
   "cell_type": "code",
   "execution_count": 177,
   "metadata": {
    "colab": {},
    "colab_type": "code",
    "id": "kHXBTmQ2ianK"
   },
   "outputs": [],
   "source": [
    "def fit(x_train,y_train,features):\n",
    "    result={} \n",
    "    class_values=set(y_train)\n",
    "    \n",
    "    for current_class in class_values:\n",
    "        result[current_class]={}\n",
    "        result[\"total_data\"]=len(y_train) \n",
    "        current_class_rows=(y_train==current_class)\n",
    "        x_train_current=x_train[current_class_rows]\n",
    "        y_train_current=y_train[current_class_rows]\n",
    "        num_features=x_train.shape[1]\n",
    "        total_word_cnt=0\n",
    "        result[current_class][\"total_count\"]=len(y_train_current)\n",
    "        result[current_class][\"total_word_count\"]=total_word_cnt\n",
    "        \n",
    "        for j in range(2,num_features+2):\n",
    "            result[current_class][features[j-2]]=x_train_current[:,j-2].sum()\n",
    "            total_word_cnt+=x_train_current[:,j-2].sum()\n",
    "            if(x_train_current[:,j-2].sum()==0):\n",
    "                continue\n",
    "            total_word_cnt+=1 ## Adding +1 for getting the count of the words for lapalace correction\n",
    "                                                                                          \n",
    "            \n",
    "        result[current_class][\"total_word_count\"]=total_word_cnt \n",
    "                                                                   \n",
    "    return result"
   ]
  },
  {
   "cell_type": "code",
   "execution_count": null,
   "metadata": {},
   "outputs": [],
   "source": [
    "## Here we are getting our dataset ready of the form that is required for the Multinomial Naive Bayes"
   ]
  },
  {
   "cell_type": "code",
   "execution_count": 178,
   "metadata": {
    "colab": {},
    "colab_type": "code",
    "id": "aiRms7FhianN"
   },
   "outputs": [],
   "source": [
    "check={}\n",
    "index={}\n",
    "x_train=[[0 for i in range(len(features))] for j in range(len(newsgroup_train_target))]\n",
    "x_test=[[0 for i in range(len(features))] for j in range(len(newsgroup_test_target))]\n",
    "ind=0\n",
    "for word in features:\n",
    "    check[word]=1\n",
    "    index[word]=ind\n",
    "    ind+=1\n",
    "    \n",
    "row=0\n",
    "for document,category in train_documents:\n",
    "    col=0\n",
    "    for word in document:\n",
    "        if word in check:\n",
    "            x_train[row][index[word]]+=1\n",
    "    row+=1 \n",
    "\n",
    "row=0\n",
    "for document,category in test_documents:\n",
    "    col=0\n",
    "    for word in document:\n",
    "        if word in check:\n",
    "            x_test[row][index[word]]+=1\n",
    "    row+=1\n",
    "x_train=np.array(x_train)\n",
    "x_test=np.array(x_test)\n",
    "y_train=newsgroup_train_target\n",
    "y_test=newsgroup_test_target\n",
    "y_train=np.array(y_train)\n",
    "y_test=np.array(y_test)"
   ]
  },
  {
   "cell_type": "code",
   "execution_count": null,
   "metadata": {},
   "outputs": [],
   "source": [
    "## Finally! we have our predictions."
   ]
  },
  {
   "cell_type": "code",
   "execution_count": 179,
   "metadata": {
    "colab": {
     "base_uri": "https://localhost:8080/",
     "height": 1000
    },
    "colab_type": "code",
    "id": "L2Sx9sT7ianP",
    "outputId": "04814f15-5ac3-480f-f64a-5a9636dd8968"
   },
   "outputs": [],
   "source": [
    "dictionary=fit(x_train,y_train,features)\n",
    "y_pred=predict(dictionary,x_test,features)"
   ]
  },
  {
   "cell_type": "code",
   "execution_count": null,
   "metadata": {},
   "outputs": [],
   "source": [
    "## Now for the subsequent code we are predicting the dataset with the Sklearn's Multinomial Naive Bayes and\n",
    "## then we are comparing with our own implemented Naive Bayes through classification reports"
   ]
  },
  {
   "cell_type": "code",
   "execution_count": 180,
   "metadata": {},
   "outputs": [],
   "source": [
    "from sklearn.naive_bayes import MultinomialNB\n",
    "from sklearn.metrics import classification_report"
   ]
  },
  {
   "cell_type": "code",
   "execution_count": 181,
   "metadata": {},
   "outputs": [],
   "source": [
    "clf=MultinomialNB()"
   ]
  },
  {
   "cell_type": "code",
   "execution_count": 182,
   "metadata": {},
   "outputs": [
    {
     "data": {
      "text/plain": [
       "MultinomialNB(alpha=1.0, class_prior=None, fit_prior=True)"
      ]
     },
     "execution_count": 182,
     "metadata": {},
     "output_type": "execute_result"
    }
   ],
   "source": [
    "clf.fit(x_train,y_train)"
   ]
  },
  {
   "cell_type": "code",
   "execution_count": 183,
   "metadata": {},
   "outputs": [],
   "source": [
    "y_pred_classifier=clf.predict(x_test)"
   ]
  },
  {
   "cell_type": "code",
   "execution_count": 184,
   "metadata": {},
   "outputs": [
    {
     "name": "stdout",
     "output_type": "stream",
     "text": [
      "              precision    recall  f1-score   support\n",
      "\n",
      "           0       0.06      0.09      0.07       319\n",
      "           1       0.02      0.02      0.02       389\n",
      "           2       0.14      0.21      0.17       394\n",
      "           3       0.04      0.02      0.02       392\n",
      "           4       0.01      0.02      0.02       385\n",
      "           5       0.12      0.15      0.13       395\n",
      "           6       0.02      0.02      0.02       390\n",
      "           7       0.09      0.07      0.08       396\n",
      "           8       0.04      0.08      0.05       398\n",
      "           9       0.09      0.05      0.07       397\n",
      "          10       0.03      0.04      0.04       399\n",
      "          11       0.06      0.01      0.01       396\n",
      "          12       0.02      0.00      0.00       393\n",
      "          13       0.12      0.16      0.14       396\n",
      "          14       0.03      0.03      0.03       394\n",
      "          15       0.00      0.00      0.00       398\n",
      "          16       0.03      0.01      0.02       364\n",
      "          17       0.12      0.17      0.14       376\n",
      "          18       0.02      0.01      0.02       310\n",
      "          19       0.09      0.14      0.11       251\n",
      "\n",
      "   micro avg       0.06      0.06      0.06      7532\n",
      "   macro avg       0.06      0.06      0.06      7532\n",
      "weighted avg       0.06      0.06      0.06      7532\n",
      "\n"
     ]
    }
   ],
   "source": [
    "print(classification_report(y_test,y_pred))"
   ]
  },
  {
   "cell_type": "code",
   "execution_count": 185,
   "metadata": {},
   "outputs": [
    {
     "name": "stdout",
     "output_type": "stream",
     "text": [
      "              precision    recall  f1-score   support\n",
      "\n",
      "           0       0.05      0.07      0.06       319\n",
      "           1       0.02      0.02      0.02       389\n",
      "           2       0.14      0.21      0.17       394\n",
      "           3       0.05      0.02      0.03       392\n",
      "           4       0.01      0.02      0.01       385\n",
      "           5       0.12      0.14      0.13       395\n",
      "           6       0.03      0.02      0.02       390\n",
      "           7       0.09      0.06      0.07       396\n",
      "           8       0.05      0.08      0.06       398\n",
      "           9       0.07      0.03      0.04       397\n",
      "          10       0.03      0.04      0.03       399\n",
      "          11       0.06      0.01      0.02       396\n",
      "          12       0.02      0.01      0.01       393\n",
      "          13       0.12      0.13      0.12       396\n",
      "          14       0.03      0.03      0.03       394\n",
      "          15       0.00      0.00      0.00       398\n",
      "          16       0.04      0.02      0.02       364\n",
      "          17       0.13      0.20      0.16       376\n",
      "          18       0.01      0.01      0.01       310\n",
      "          19       0.09      0.14      0.11       251\n",
      "\n",
      "   micro avg       0.06      0.06      0.06      7532\n",
      "   macro avg       0.06      0.06      0.06      7532\n",
      "weighted avg       0.06      0.06      0.06      7532\n",
      "\n"
     ]
    }
   ],
   "source": [
    "print(classification_report(y_test,y_pred_classifier))"
   ]
  }
 ],
 "metadata": {
  "accelerator": "GPU",
  "colab": {
   "collapsed_sections": [],
   "name": "Copy of Text_classification_data set.ipynb",
   "provenance": []
  },
  "kernelspec": {
   "display_name": "Python 3",
   "language": "python",
   "name": "python3"
  },
  "language_info": {
   "codemirror_mode": {
    "name": "ipython",
    "version": 3
   },
   "file_extension": ".py",
   "mimetype": "text/x-python",
   "name": "python",
   "nbconvert_exporter": "python",
   "pygments_lexer": "ipython3",
   "version": "3.7.3"
  }
 },
 "nbformat": 4,
 "nbformat_minor": 1
}
